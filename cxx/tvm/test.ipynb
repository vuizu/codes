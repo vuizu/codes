{
 "cells": [
  {
   "cell_type": "code",
   "execution_count": 7,
   "metadata": {},
   "outputs": [
    {
     "name": "stdout",
     "output_type": "stream",
     "text": [
      "2.4.0+cu118\n",
      "11.8\n",
      "True\n",
      "NVIDIA GeForce RTX 2060 with Max-Q Design\n",
      "1\n",
      "True\n",
      "90300\n"
     ]
    }
   ],
   "source": [
    "import torch\n",
    "\n",
    "def print_torch_version():\n",
    "    print(torch.__version__)\n",
    "    print(torch.version.cuda)\n",
    "    print(torch.cuda.is_available())\n",
    "    print(torch.cuda.get_device_name())\n",
    "    print(torch.cuda.device_count())\n",
    "    print(torch.backends.cudnn.enabled)\n",
    "    print(torch.backends.cudnn.version())\n",
    "\n",
    "print_torch_version()"
   ]
  },
  {
   "cell_type": "code",
   "execution_count": 8,
   "metadata": {},
   "outputs": [
    {
     "name": "stderr",
     "output_type": "stream",
     "text": [
      "/tmp/ipykernel_92297/3969299508.py:6: FutureWarning: `torch.cuda.amp.GradScaler(args...)` is deprecated. Please use `torch.amp.GradScaler('cuda', args...)` instead.\n",
      "  scaler = GradScaler()\n",
      "/tmp/ipykernel_92297/3969299508.py:11: FutureWarning: `torch.cuda.amp.autocast(args...)` is deprecated. Please use `torch.amp.autocast('cuda', args...)` instead.\n",
      "  with autocast():  # Enable autocast for mixed precision\n"
     ]
    },
    {
     "name": "stdout",
     "output_type": "stream",
     "text": [
      "Epoch 1, Loss: 1.2605514526367188\n",
      "Epoch 2, Loss: -6.145843505859375\n",
      "Epoch 3, Loss: -3.30712890625\n",
      "Epoch 4, Loss: 1.5262832641601562\n",
      "Epoch 5, Loss: -8.057334899902344\n",
      "Epoch 6, Loss: -25.8167724609375\n",
      "Epoch 7, Loss: -28.768177032470703\n",
      "Epoch 8, Loss: -12.476730346679688\n",
      "Epoch 9, Loss: -57.84068298339844\n",
      "Epoch 10, Loss: -58.31103515625\n"
     ]
    }
   ],
   "source": [
    "import torch\n",
    "from torch.cuda.amp import autocast, GradScaler\n",
    "\n",
    "model = torch.nn.Linear(10, 10).cuda()\n",
    "optimizer = torch.optim.SGD(model.parameters(), lr=0.01)\n",
    "scaler = GradScaler()\n",
    "\n",
    "for epoch in range(10):\n",
    "    optimizer.zero_grad()\n",
    "    \n",
    "    with autocast():  # Enable autocast for mixed precision\n",
    "        output = model(torch.randn(10, 10).cuda())\n",
    "        loss = output.sum()\n",
    "    \n",
    "    scaler.scale(loss).backward()\n",
    "    scaler.step(optimizer)\n",
    "    scaler.update()\n",
    "    \n",
    "    print(f\"Epoch {epoch+1}, Loss: {loss.item()}\")"
   ]
  }
 ],
 "metadata": {
  "kernelspec": {
   "display_name": "ai",
   "language": "python",
   "name": "python3"
  },
  "language_info": {
   "codemirror_mode": {
    "name": "ipython",
    "version": 3
   },
   "file_extension": ".py",
   "mimetype": "text/x-python",
   "name": "python",
   "nbconvert_exporter": "python",
   "pygments_lexer": "ipython3",
   "version": "3.8.19"
  }
 },
 "nbformat": 4,
 "nbformat_minor": 2
}
