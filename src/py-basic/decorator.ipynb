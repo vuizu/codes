{
 "cells": [
  {
   "cell_type": "markdown",
   "metadata": {},
   "source": [
    "##### decorator: 返回值为另一个函数的函数，以某种方式增强函数的行为\n",
    "\n",
    "1. 能把被装饰的函数替换成其他函数\n",
    "2. 装饰器在加载模块时立即执行\n",
    "\n",
    "有 方法装饰器 和 类装饰器\n",
    "\n",
    "\n",
    "# 本质：传入一个函数（类），返回一个函数（类）"
   ]
  },
  {
   "cell_type": "code",
   "execution_count": 35,
   "metadata": {},
   "outputs": [],
   "source": [
    "@staticmethod\n",
    "def f1():\n",
    "    pass\n",
    "\n",
    "# 等价写法\n",
    "def f1():\n",
    "    pass\n",
    "f1 = staticmethod(f1)"
   ]
  },
  {
   "cell_type": "code",
   "execution_count": 61,
   "metadata": {},
   "outputs": [
    {
     "name": "stdout",
     "output_type": "stream",
     "text": [
      "running inner()\n"
     ]
    },
    {
     "data": {
      "text/plain": [
       "<function __main__.deco.<locals>.inner()>"
      ]
     },
     "execution_count": 61,
     "metadata": {},
     "output_type": "execute_result"
    }
   ],
   "source": [
    "# 标准装饰器\n",
    "def deco(func):\n",
    "    # 被修饰函数带不定长参数\n",
    "    def inner(*args, **kwargs):\n",
    "        print('running inner()')\n",
    "    return inner\n",
    "\n",
    "@deco\n",
    "def target():\n",
    "    print('running target()')\n",
    "    \n",
    "target()\n",
    "target"
   ]
  },
  {
   "cell_type": "code",
   "execution_count": 69,
   "metadata": {},
   "outputs": [
    {
     "name": "stdout",
     "output_type": "stream",
     "text": [
      "running inner()\n"
     ]
    }
   ],
   "source": [
    "# 参数化装饰器\n",
    "def outer():\n",
    "    def deco(func):\n",
    "        def inner():\n",
    "            print('running inner()')\n",
    "        return inner\n",
    "    return deco\n",
    "\n",
    "\n",
    "@outer() # 等价于直接调用了 outer 方法，返回一个 (func) -> func，与 @deco 无异\n",
    "def target():\n",
    "    print('running target()')\n",
    "\n",
    "\n",
    "# 等价写法\n",
    "# def deco(func):\n",
    "#     def inner():\n",
    "#         print('running inner()')\n",
    "#     return inner\n",
    "#\n",
    "# def outer():\n",
    "#     return deco\n",
    "# \n",
    "# @outer()\n",
    "# def targe():\n",
    "#     print('running target()')\n",
    "# 或\n",
    "# @deco\n",
    "# def target():\n",
    "#     print('running target()')\n",
    "\n",
    "\n",
    "target()"
   ]
  },
  {
   "cell_type": "code",
   "execution_count": 88,
   "metadata": {},
   "outputs": [
    {
     "name": "stdout",
     "output_type": "stream",
     "text": [
      "deco1::inner\n",
      "deco2::inner\n",
      "hello\n"
     ]
    },
    {
     "data": {
      "text/plain": [
       "<function __main__.deco1.<locals>.inner()>"
      ]
     },
     "execution_count": 88,
     "metadata": {},
     "output_type": "execute_result"
    }
   ],
   "source": [
    "def deco1(func):\n",
    "    def inner():\n",
    "        print(\"deco1::inner\")\n",
    "        func() # 此处为被下面装饰器 (@deco2) 装饰后返回的 inner 方法\n",
    "    return inner\n",
    "\n",
    "def deco2(func):\n",
    "    def inner():\n",
    "        print('deco2::inner')\n",
    "        func() # 此处为 func 方法\n",
    "    return inner\n",
    "\n",
    "\n",
    "# 从下往上装饰\n",
    "@deco1\n",
    "@deco2\n",
    "def func():\n",
    "    print(\"hello\")\n",
    "\n",
    "func()\n",
    "func"
   ]
  },
  {
   "cell_type": "code",
   "execution_count": 92,
   "metadata": {},
   "outputs": [
    {
     "name": "stdout",
     "output_type": "stream",
     "text": [
      "running inner()\n",
      "running inner()\n",
      "running target()\n",
      "Help on function target in module __main__:\n",
      "\n",
      "target()\n",
      "\n",
      "running inner()\n",
      "running inner()\n",
      "running target()\n"
     ]
    }
   ],
   "source": [
    "from functools import wraps\n",
    "\n",
    "def repeat_deco(func):\n",
    "    @wraps(func) # -> help(target()) 正常会打印最终装饰完的方法，加上该修饰器后，会打印最原始的 target()\n",
    "    # 用于访问装饰前的 func 的属性\n",
    "    def inner():\n",
    "        print('running inner()')\n",
    "        func()\n",
    "    return inner\n",
    "\n",
    "@repeat_deco # 此处传入的 func 为 被上一个装饰后，返回的 inner\n",
    "@repeat_deco # 此处传入的 func 为 target\n",
    "def target():\n",
    "    print('running target()')\n",
    "\n",
    "    \n",
    "target() # inner(inner(target()))\n",
    "help(target)"
   ]
  },
  {
   "cell_type": "code",
   "execution_count": 37,
   "metadata": {},
   "outputs": [
    {
     "name": "stdout",
     "output_type": "stream",
     "text": [
      "running register(<function f1 at 0x7fd7b601ac10>)\n",
      "running register(<function f2 at 0x7fd7b5fedf70>)\n",
      "register -> [<function f1 at 0x7fd7b601ac10>, <function f2 at 0x7fd7b5fedf70>]\n",
      "running f1()\n",
      "running f2()\n"
     ]
    }
   ],
   "source": [
    "# 在被装饰的函数定义之后立即运行\n",
    "\n",
    "# 做为模块导入后，也会立即执行\n",
    "registry = []\n",
    "\n",
    "def register(func):\n",
    "    print(f'running register({func})')\n",
    "    registry.append(func)\n",
    "    return func\n",
    "\n",
    "@register\n",
    "def f1():\n",
    "    print('running f1()')\n",
    "\n",
    "@register\n",
    "def f2():\n",
    "    print('running f2()')\n",
    "\n",
    "\n",
    "if __name__ == \"__main__\":\n",
    "    print('register ->', registry)\n",
    "    f1()\n",
    "    f2()"
   ]
  },
  {
   "cell_type": "code",
   "execution_count": 90,
   "metadata": {},
   "outputs": [],
   "source": [
    "# 等价写法\n",
    "def deco(func):\n",
    "    def inner():\n",
    "        print('running inner()')\n",
    "    return inner\n",
    "\n",
    "def outer():\n",
    "    return deco\n",
    "\n",
    "@outer()\n",
    "def targe():\n",
    "    print('running target()')\n",
    "# 或\n",
    "# @deco\n",
    "# def target():\n",
    "#     print('running target()')\n"
   ]
  },
  {
   "cell_type": "code",
   "execution_count": null,
   "metadata": {},
   "outputs": [],
   "source": [
    "# 类装饰器与函数装饰器非常类似，是参数为类对象的函数，返回原来的类或修改后的类\n",
    "def entity(cls):\n",
    "    return cls "
   ]
  }
 ],
 "metadata": {
  "kernelspec": {
   "display_name": "Python 3 (ipykernel)",
   "language": "python",
   "name": "python3"
  },
  "language_info": {
   "codemirror_mode": {
    "name": "ipython",
    "version": 3
   },
   "file_extension": ".py",
   "mimetype": "text/x-python",
   "name": "python",
   "nbconvert_exporter": "python",
   "pygments_lexer": "ipython3",
   "version": "3.8.10"
  }
 },
 "nbformat": 4,
 "nbformat_minor": 4
}
