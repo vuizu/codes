{
 "cells": [
  {
   "cell_type": "code",
   "execution_count": 1,
   "metadata": {},
   "outputs": [
    {
     "name": "stdout",
     "output_type": "stream",
     "text": [
      "2.3.0+cu118\n",
      "11.8\n",
      "True\n",
      "NVIDIA GeForce RTX 2060 with Max-Q Design\n",
      "1\n",
      "True\n",
      "8700\n"
     ]
    }
   ],
   "source": [
    "import torch\n",
    "\n",
    "def print_torch_version():\n",
    "    print(torch.__version__)\n",
    "    print(torch.version.cuda)\n",
    "    print(torch.cuda.is_available())\n",
    "    print(torch.cuda.get_device_name())\n",
    "    print(torch.cuda.device_count())\n",
    "    print(torch.backends.cudnn.enabled)\n",
    "    print(torch.backends.cudnn.version())\n",
    "\n",
    "print_torch_version()"
   ]
  },
  {
   "cell_type": "code",
   "execution_count": 2,
   "metadata": {},
   "outputs": [
    {
     "name": "stdout",
     "output_type": "stream",
     "text": [
      "Epoch 1, Loss: -5.351093292236328\n",
      "Epoch 2, Loss: 5.369075775146484\n",
      "Epoch 3, Loss: 5.012664794921875\n",
      "Epoch 4, Loss: 7.829819679260254\n",
      "Epoch 5, Loss: 17.732131958007812\n",
      "Epoch 6, Loss: 3.108489990234375\n",
      "Epoch 7, Loss: -3.8073043823242188\n",
      "Epoch 8, Loss: -19.63114356994629\n",
      "Epoch 9, Loss: -24.10202407836914\n",
      "Epoch 10, Loss: -35.9334716796875\n"
     ]
    }
   ],
   "source": [
    "import torch\n",
    "from torch.cuda.amp import autocast, GradScaler\n",
    "\n",
    "model = torch.nn.Linear(10, 10).cuda()\n",
    "optimizer = torch.optim.SGD(model.parameters(), lr=0.01)\n",
    "scaler = GradScaler()\n",
    "\n",
    "for epoch in range(10):\n",
    "    optimizer.zero_grad()\n",
    "    \n",
    "    with autocast():  # Enable autocast for mixed precision\n",
    "        output = model(torch.randn(10, 10).cuda())\n",
    "        loss = output.sum()\n",
    "    \n",
    "    scaler.scale(loss).backward()\n",
    "    scaler.step(optimizer)\n",
    "    scaler.update()\n",
    "    \n",
    "    print(f\"Epoch {epoch+1}, Loss: {loss.item()}\")"
   ]
  }
 ],
 "metadata": {
  "kernelspec": {
   "display_name": "Python 3 (ipykernel)",
   "language": "python",
   "name": "python3"
  },
  "language_info": {
   "codemirror_mode": {
    "name": "ipython",
    "version": 3
   },
   "file_extension": ".py",
   "mimetype": "text/x-python",
   "name": "python",
   "nbconvert_exporter": "python",
   "pygments_lexer": "ipython3",
   "version": "3.8.10"
  }
 },
 "nbformat": 4,
 "nbformat_minor": 4
}
