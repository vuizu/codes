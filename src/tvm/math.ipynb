{
 "cells": [
  {
   "cell_type": "code",
   "execution_count": null,
   "metadata": {},
   "outputs": [],
   "source": [
    "import matplotlib.pyplot as plt\n",
    "import numpy as np\n",
    "\n",
    "\n",
    "# 生成 x 值，例如从 -1 到 1，可以根据需要调整范围和步长\n",
    "x = np.linspace(0, np.pi / 2, 100)  # 在 -1 到 1 之间生成 100 个均匀间隔的点\n",
    "\n",
    "# 计算反正弦值\n",
    "y = np.arctan(x)\n",
    "y1 = np.sin(x)\n",
    "y2 = 2 * x / np.pi\n",
    "y3 = x\n",
    "y4 = np.arcsin(x)\n",
    "y5 = 4 * x / np.pi\n",
    "y6 = np.tan(x)\n",
    "\n",
    "# 绘制反正弦函数的图形\n",
    "plt.figure(figsize=(8, 6))\n",
    "plt.plot(x, y, label='arctan(x)', color='b', linestyle='-', linewidth=2)\n",
    "plt.plot(x, y1, label='sin(x)', color='r', linestyle='-', linewidth=2)\n",
    "plt.plot(x, y2, label='2x/pi', color='y', linestyle='-', linewidth=2)\n",
    "plt.plot(x, y3, label='x', color='g', linestyle='-', linewidth=2)\n",
    "plt.plot(x, y4, label='arcsin(x)', color='black', linestyle='-', linewidth=2)\n",
    "plt.plot(x, y5, label='4x/pi', color='purple', linestyle='-', linewidth=2)\n",
    "# plt.plot(x, y6, label='tan(x)', color='gray', linestyle='-', linewidth=2)\n",
    "\n",
    "# 添加标题和标签\n",
    "plt.title('Plot of')\n",
    "plt.xlabel('x')\n",
    "plt.ylabel('y')\n",
    "\n",
    "# 显示网格和图例\n",
    "plt.grid(True)\n",
    "plt.legend()\n",
    "\n",
    "# 显示图形\n",
    "plt.show()"
   ]
  }
 ],
 "metadata": {
  "kernelspec": {
   "display_name": "ai",
   "language": "python",
   "name": "python3"
  },
  "language_info": {
   "codemirror_mode": {
    "name": "ipython",
    "version": 3
   },
   "file_extension": ".py",
   "mimetype": "text/x-python",
   "name": "python",
   "nbconvert_exporter": "python",
   "pygments_lexer": "ipython3",
   "version": "3.8.10"
  }
 },
 "nbformat": 4,
 "nbformat_minor": 2
}
